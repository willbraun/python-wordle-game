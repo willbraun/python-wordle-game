{
 "cells": [
  {
   "cell_type": "code",
   "execution_count": 16,
   "id": "1df29f4f",
   "metadata": {},
   "outputs": [
    {
     "ename": "SyntaxError",
     "evalue": "unexpected EOF while parsing (1519482723.py, line 48)",
     "output_type": "error",
     "traceback": [
      "\u001b[0;36m  Input \u001b[0;32mIn [16]\u001b[0;36m\u001b[0m\n\u001b[0;31m    \u001b[0m\n\u001b[0m    ^\u001b[0m\n\u001b[0;31mSyntaxError\u001b[0m\u001b[0;31m:\u001b[0m unexpected EOF while parsing\n"
     ]
    }
   ],
   "source": [
    "from string import ascii_uppercase\n",
    "from random import choice\n",
    "\n",
    "alphabet = ascii_uppercase\n",
    "alphabet_display = [f' {i} ' for i in alphabet]\n",
    "row = 0\n",
    "reset = '\\033[0m'\n",
    "grey = '\\u001b[0;40m'\n",
    "green = '\\u001b[42m'\n",
    "yellow = '\\u001b[43m'\n",
    "purple = '\\033[0;35m'\n",
    "\n",
    "def show_board():\n",
    "    print('\\n')\n",
    "    for row in board: \n",
    "        print(''.join(row))\n",
    "    print('\\n\\n',''.join(alphabet_display),'\\n')\n",
    "\n",
    "def set_color_and_upper(text, color):\n",
    "    return f'{color}{text.upper()}{reset}'\n",
    "\n",
    "def loadWords():\n",
    "    inFile = open('word-list.txt', 'r')\n",
    "    wordList = []\n",
    "    for line in inFile:\n",
    "        wordList.append(line.strip().lower())\n",
    "    return wordList\n",
    "\n",
    "board = [[set_color_and_upper(' _ ', grey) for j in range(5)] for i in range(6)]\n",
    "word_list = loadWords()\n",
    "answer = choice(word_list)\n",
    "\n",
    "show_board()\n",
    "\n",
    "while row < 6:\n",
    "    guess = input(\"Enter a 5-letter word: \")\n",
    "\n",
    "    if len(guess) != 5:\n",
    "        print(\"Word must be exactly 5 letters, please enter a new word\")\n",
    "        continue\n",
    "\n",
    "    if not guess in word_list:\n",
    "        print('Invalid word, try again')\n",
    "        continue\n",
    "\n",
    "    correct_count = 0\n",
    "    temp_answer = list(answer)\n",
    "    for index, letter in enumerate(guess):\n",
    "        spaced_letter = f' {letter} '\n",
    "        if letter == answer[index]:\n",
    "            new_letter = set_color_and_upper(spaced_letter, green)\n",
    "            temp_answer.remove(letter)\n",
    "            correct_count += 1\n",
    "        elif temp_answer.count(letter) > 0:\n",
    "            new_letter = set_color_and_upper(spaced_letter, yellow)\n",
    "            temp_answer.remove(letter)\n",
    "        else:\n",
    "            new_letter = set_color_and_upper(spaced_letter, grey)\n",
    "        \n",
    "        board[row][index] = new_letter\n",
    "        alphabet_display[alphabet.index(letter.upper())] = new_letter\n",
    "    \n",
    "    show_board()\n",
    "    \n",
    "    if correct_count == 5:\n",
    "        print(f'You win! Tries: {row + 1}')\n",
    "        break\n",
    "\n",
    "    if row == 5:\n",
    "        print(f'Game over. The word was {set_color_and_upper(answer, purple)}.')\n",
    "        break\n",
    "\n",
    "    row += 1"
   ]
  }
 ],
 "metadata": {
  "kernelspec": {
   "display_name": "Python 3 (ipykernel)",
   "language": "python",
   "name": "python3"
  },
  "language_info": {
   "codemirror_mode": {
    "name": "ipython",
    "version": 3
   },
   "file_extension": ".py",
   "mimetype": "text/x-python",
   "name": "python",
   "nbconvert_exporter": "python",
   "pygments_lexer": "ipython3",
   "version": "3.8.9"
  }
 },
 "nbformat": 4,
 "nbformat_minor": 5
}

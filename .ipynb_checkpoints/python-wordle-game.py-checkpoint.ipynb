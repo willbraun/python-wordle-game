{
 "cells": [
  {
   "cell_type": "code",
   "execution_count": 13,
   "id": "2fece100",
   "metadata": {},
   "outputs": [
    {
     "name": "stdout",
     "output_type": "stream",
     "text": [
      "_ _ _ _ _\n",
      "_ _ _ _ _\n",
      "_ _ _ _ _\n",
      "_ _ _ _ _\n",
      "_ _ _ _ _\n",
      "_ _ _ _ _\n"
     ]
    }
   ],
   "source": [
    "from random import choice\n",
    "\n",
    "words = ['puree', 'grape', 'fishy', 'start', 'large', 'small', 'extra', 'tacos', 'plump', 'wiley', 'paled', 'story']\n",
    "answer = choice(words)\n",
    "board = [\"_____\" for i in range(6)]\n",
    "\n",
    "def space_out(x):\n",
    "    return ' '.join(x)\n",
    "\n",
    "def show_board():\n",
    "    for row in board:\n",
    "        print(space_out(row))\n",
    "        \n",
    "# def getFrequencyDict(sequence):\n",
    "#     freq = {}\n",
    "#     for x in sequence:\n",
    "#         freq[x] = freq.get(x,0) + 1\n",
    "#     return freq\n",
    "    \n",
    "# answer_freq = getFrequencyDict(answer)\n",
    "show_board()\n",
    "\n",
    "while True:\n",
    "    guess = input(\"Enter a 5-letter word: \")\n",
    "    if len(guess) != 5:\n",
    "        print(\"Word must be exactly 5 letters, please enter a new word\")\n",
    "        continue\n",
    "    \n",
    "    temp_answer = answer\n",
    "    for index, letter in enumerate(guess):\n",
    "        if letter == answer[index]:\n",
    "            # turn green\n",
    "        elif temp_answer.count(letter) > 0:\n",
    "            # turn yellow\n",
    "        else:\n",
    "            # turn grey\n",
    "        \n",
    "        \n",
    "        \n",
    "            \n",
    "            \n",
    "        \n",
    "    "
   ]
  }
 ],
 "metadata": {
  "kernelspec": {
   "display_name": "Python 3 (ipykernel)",
   "language": "python",
   "name": "python3"
  },
  "language_info": {
   "codemirror_mode": {
    "name": "ipython",
    "version": 3
   },
   "file_extension": ".py",
   "mimetype": "text/x-python",
   "name": "python",
   "nbconvert_exporter": "python",
   "pygments_lexer": "ipython3",
   "version": "3.8.9"
  }
 },
 "nbformat": 4,
 "nbformat_minor": 5
}

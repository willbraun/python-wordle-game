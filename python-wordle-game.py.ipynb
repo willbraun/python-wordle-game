{
 "cells": [
  {
   "cell_type": "code",
   "execution_count": 16,
   "id": "1808b9d8",
   "metadata": {},
   "outputs": [
    {
     "ename": "SyntaxError",
     "evalue": "unexpected EOF while parsing (1519482723.py, line 48)",
     "output_type": "error",
     "traceback": [
      "\u001b[0;36m  Input \u001b[0;32mIn [16]\u001b[0;36m\u001b[0m\n\u001b[0;31m    \u001b[0m\n\u001b[0m    ^\u001b[0m\n\u001b[0;31mSyntaxError\u001b[0m\u001b[0;31m:\u001b[0m unexpected EOF while parsing\n"
     ]
    }
   ],
   "source": [
    "from random import choice\n",
    "\n",
    "words = ['puree', 'grape', 'fishy', 'start', 'large', 'small', 'extra', 'tacos', 'plump', 'wiley', 'paled', 'story']\n",
    "answer = choice(words)\n",
    "board = [[\"_\",\"_\",\"_\",\"_\",\"_\"] for i in range(6)]\n",
    "\n",
    "def space_out(x):\n",
    "    return ' '.join(x)\n",
    "\n",
    "def show_board():\n",
    "    for row in board:\n",
    "        print(space_out(row))\n",
    "        \n",
    "# def getFrequencyDict(sequence):\n",
    "#     freq = {}\n",
    "#     for x in sequence:\n",
    "#         freq[x] = freq.get(x,0) + 1\n",
    "#     return freq\n",
    "    \n",
    "# answer_freq = getFrequencyDict(answer)\n",
    "show_board()\n",
    "\n",
    "while True:\n",
    "    guess = input(\"Enter a 5-letter word: \")\n",
    "\n",
    "    if len(guess) != 5:\n",
    "        print(\"Word must be exactly 5 letters, please enter a new word\")\n",
    "        continue\n",
    "    \n",
    "    temp_answer = answer\n",
    "    for index, letter in enumerate(guess):\n",
    "        if letter == answer[index]:\n",
    "            # set board letter in current row to this letter in green\n",
    "            temp_answer.remove(letter)\n",
    "        elif temp_answer.count(letter) > 0:\n",
    "            # set board letter in current row to this letter in yellow\n",
    "            temp_answer.remove(letter)\n",
    "        else:\n",
    "            # set board letter in current row to this letter in grey\n",
    "    \n",
    "#     board[row] = guess\n",
    "        \n",
    "        \n",
    "        \n",
    "            \n",
    "            \n",
    "        \n",
    "    "
   ]
  }
 ],
 "metadata": {
  "kernelspec": {
   "display_name": "Python 3 (ipykernel)",
   "language": "python",
   "name": "python3"
  },
  "language_info": {
   "codemirror_mode": {
    "name": "ipython",
    "version": 3
   },
   "file_extension": ".py",
   "mimetype": "text/x-python",
   "name": "python",
   "nbconvert_exporter": "python",
   "pygments_lexer": "ipython3",
   "version": "3.8.9"
  }
 },
 "nbformat": 4,
 "nbformat_minor": 5
}
